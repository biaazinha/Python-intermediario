{
 "cells": [
  {
   "cell_type": "markdown",
   "id": "7b2d3307",
   "metadata": {},
   "source": [
    "# Introdução a Deep Learning com TensorFlow"
   ]
  },
  {
   "cell_type": "markdown",
   "id": "29128417",
   "metadata": {},
   "source": [
    "Problema de negócio: Consrtruir um modelo de Inteligencia Artificial capaz de classificar imagens considerando 10 categorias:\n",
    "['airplane', 'automobile', 'bird', 'cat', 'deer', 'dog', 'frog', 'horse', 'ship', 'truck'].\n",
    "Dada uma nova imagem de uma dessas categorias o modelo deve ser capaz de classificar e indicar o que é a imagem."
   ]
  },
  {
   "cell_type": "markdown",
   "id": "bd5d0626",
   "metadata": {},
   "source": [
    "https://www.tensorflow.org/"
   ]
  },
  {
   "cell_type": "code",
   "execution_count": 2,
   "id": "f15a0e40",
   "metadata": {},
   "outputs": [],
   "source": [
    "# Instala o TF\n",
    "!pip install -q tensorflow==2.12"
   ]
  },
  {
   "cell_type": "code",
   "execution_count": 3,
   "id": "0bd36b4c",
   "metadata": {},
   "outputs": [
    {
     "name": "stdout",
     "output_type": "stream",
     "text": [
      "env: TF_CPP_MIN_LOG_LEVEL=3\n"
     ]
    }
   ],
   "source": [
    "# Silencia mensagens do TF \n",
    "%env TF_CPP_MIN_LOG_LEVEL=3"
   ]
  },
  {
   "cell_type": "code",
   "execution_count": 6,
   "id": "182b70c7",
   "metadata": {},
   "outputs": [],
   "source": [
    "# Imports\n",
    "import tensorflow as tf\n",
    "from tensorflow.keras import datasets, layers, models\n",
    "import matplotlib.pyplot as plt\n",
    "import numpy as np\n",
    "from PIL import Image"
   ]
  },
  {
   "cell_type": "code",
   "execution_count": null,
   "id": "49eb206a",
   "metadata": {},
   "outputs": [],
   "source": []
  }
 ],
 "metadata": {
  "kernelspec": {
   "display_name": "Python 3 (ipykernel)",
   "language": "python",
   "name": "python3"
  },
  "language_info": {
   "codemirror_mode": {
    "name": "ipython",
    "version": 3
   },
   "file_extension": ".py",
   "mimetype": "text/x-python",
   "name": "python",
   "nbconvert_exporter": "python",
   "pygments_lexer": "ipython3",
   "version": "3.9.13"
  }
 },
 "nbformat": 4,
 "nbformat_minor": 5
}
