{
 "cells": [
  {
   "cell_type": "markdown",
   "id": "04d97e07",
   "metadata": {},
   "source": [
    "# Robô Trading com Inteligência Artificial em Python"
   ]
  },
  {
   "cell_type": "markdown",
   "id": "64bb9287",
   "metadata": {},
   "source": [
    "Problema de Negócio: \n",
    "\n",
    "Construir um robô baseado em Inteligência Artificial que aprenda a operar na bolsa de valores a partir de experimentos de compra e venda de ações. Dado um saldo inicial o modelo deve apresentar o resultado (lucro) a ser obtido depois de ações de compra e venda."
   ]
  },
  {
   "cell_type": "code",
   "execution_count": null,
   "id": "e87a88e3",
   "metadata": {},
   "outputs": [],
   "source": []
  }
 ],
 "metadata": {
  "kernelspec": {
   "display_name": "Python 3 (ipykernel)",
   "language": "python",
   "name": "python3"
  },
  "language_info": {
   "codemirror_mode": {
    "name": "ipython",
    "version": 3
   },
   "file_extension": ".py",
   "mimetype": "text/x-python",
   "name": "python",
   "nbconvert_exporter": "python",
   "pygments_lexer": "ipython3",
   "version": "3.9.13"
  }
 },
 "nbformat": 4,
 "nbformat_minor": 5
}
